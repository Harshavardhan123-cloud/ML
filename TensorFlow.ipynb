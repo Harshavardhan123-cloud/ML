{
  "nbformat": 4,
  "nbformat_minor": 0,
  "metadata": {
    "colab": {
      "name": "TensorFlow.ipynb",
      "provenance": [],
      "authorship_tag": "ABX9TyM0A4iUKP6gDLjg7ZLt86OT",
      "include_colab_link": true
    },
    "kernelspec": {
      "name": "python3",
      "display_name": "Python 3"
    },
    "language_info": {
      "name": "python"
    }
  },
  "cells": [
    {
      "cell_type": "markdown",
      "metadata": {
        "id": "view-in-github",
        "colab_type": "text"
      },
      "source": [
        "<a href=\"https://colab.research.google.com/github/Harshavardhan123-cloud/ML/blob/master/TensorFlow.ipynb\" target=\"_parent\"><img src=\"https://colab.research.google.com/assets/colab-badge.svg\" alt=\"Open In Colab\"/></a>"
      ]
    },
    {
      "cell_type": "code",
      "metadata": {
        "colab": {
          "base_uri": "https://localhost:8080/"
        },
        "id": "SXsOa5wQ4Lw6",
        "outputId": "6af325aa-ce3d-48c1-95ce-c9bfd01c6295"
      },
      "source": [
        "pip install --upgrade pip\n"
      ],
      "execution_count": 3,
      "outputs": [
        {
          "output_type": "stream",
          "text": [
            "Collecting pip\n",
            "\u001b[?25l  Downloading https://files.pythonhosted.org/packages/cd/6f/43037c7bcc8bd8ba7c9074256b1a11596daa15555808ec748048c1507f08/pip-21.1.1-py3-none-any.whl (1.5MB)\n",
            "\r\u001b[K     |▏                               | 10kB 15.9MB/s eta 0:00:01\r\u001b[K     |▍                               | 20kB 20.5MB/s eta 0:00:01\r\u001b[K     |▋                               | 30kB 22.2MB/s eta 0:00:01\r\u001b[K     |▉                               | 40kB 23.7MB/s eta 0:00:01\r\u001b[K     |█                               | 51kB 25.6MB/s eta 0:00:01\r\u001b[K     |█▎                              | 61kB 26.4MB/s eta 0:00:01\r\u001b[K     |█▌                              | 71kB 26.5MB/s eta 0:00:01\r\u001b[K     |█▊                              | 81kB 27.0MB/s eta 0:00:01\r\u001b[K     |██                              | 92kB 26.8MB/s eta 0:00:01\r\u001b[K     |██▏                             | 102kB 27.6MB/s eta 0:00:01\r\u001b[K     |██▎                             | 112kB 27.6MB/s eta 0:00:01\r\u001b[K     |██▌                             | 122kB 27.6MB/s eta 0:00:01\r\u001b[K     |██▊                             | 133kB 27.6MB/s eta 0:00:01\r\u001b[K     |███                             | 143kB 27.6MB/s eta 0:00:01\r\u001b[K     |███▏                            | 153kB 27.6MB/s eta 0:00:01\r\u001b[K     |███▍                            | 163kB 27.6MB/s eta 0:00:01\r\u001b[K     |███▋                            | 174kB 27.6MB/s eta 0:00:01\r\u001b[K     |███▉                            | 184kB 27.6MB/s eta 0:00:01\r\u001b[K     |████                            | 194kB 27.6MB/s eta 0:00:01\r\u001b[K     |████▎                           | 204kB 27.6MB/s eta 0:00:01\r\u001b[K     |████▌                           | 215kB 27.6MB/s eta 0:00:01\r\u001b[K     |████▋                           | 225kB 27.6MB/s eta 0:00:01\r\u001b[K     |████▉                           | 235kB 27.6MB/s eta 0:00:01\r\u001b[K     |█████                           | 245kB 27.6MB/s eta 0:00:01\r\u001b[K     |█████▎                          | 256kB 27.6MB/s eta 0:00:01\r\u001b[K     |█████▌                          | 266kB 27.6MB/s eta 0:00:01\r\u001b[K     |█████▊                          | 276kB 27.6MB/s eta 0:00:01\r\u001b[K     |██████                          | 286kB 27.6MB/s eta 0:00:01\r\u001b[K     |██████▏                         | 296kB 27.6MB/s eta 0:00:01\r\u001b[K     |██████▍                         | 307kB 27.6MB/s eta 0:00:01\r\u001b[K     |██████▋                         | 317kB 27.6MB/s eta 0:00:01\r\u001b[K     |██████▊                         | 327kB 27.6MB/s eta 0:00:01\r\u001b[K     |███████                         | 337kB 27.6MB/s eta 0:00:01\r\u001b[K     |███████▏                        | 348kB 27.6MB/s eta 0:00:01\r\u001b[K     |███████▍                        | 358kB 27.6MB/s eta 0:00:01\r\u001b[K     |███████▋                        | 368kB 27.6MB/s eta 0:00:01\r\u001b[K     |███████▉                        | 378kB 27.6MB/s eta 0:00:01\r\u001b[K     |████████                        | 389kB 27.6MB/s eta 0:00:01\r\u001b[K     |████████▎                       | 399kB 27.6MB/s eta 0:00:01\r\u001b[K     |████████▌                       | 409kB 27.6MB/s eta 0:00:01\r\u001b[K     |████████▊                       | 419kB 27.6MB/s eta 0:00:01\r\u001b[K     |█████████                       | 430kB 27.6MB/s eta 0:00:01\r\u001b[K     |█████████                       | 440kB 27.6MB/s eta 0:00:01\r\u001b[K     |█████████▎                      | 450kB 27.6MB/s eta 0:00:01\r\u001b[K     |█████████▌                      | 460kB 27.6MB/s eta 0:00:01\r\u001b[K     |█████████▊                      | 471kB 27.6MB/s eta 0:00:01\r\u001b[K     |██████████                      | 481kB 27.6MB/s eta 0:00:01\r\u001b[K     |██████████▏                     | 491kB 27.6MB/s eta 0:00:01\r\u001b[K     |██████████▍                     | 501kB 27.6MB/s eta 0:00:01\r\u001b[K     |██████████▋                     | 512kB 27.6MB/s eta 0:00:01\r\u001b[K     |██████████▉                     | 522kB 27.6MB/s eta 0:00:01\r\u001b[K     |███████████                     | 532kB 27.6MB/s eta 0:00:01\r\u001b[K     |███████████▏                    | 542kB 27.6MB/s eta 0:00:01\r\u001b[K     |███████████▍                    | 552kB 27.6MB/s eta 0:00:01\r\u001b[K     |███████████▋                    | 563kB 27.6MB/s eta 0:00:01\r\u001b[K     |███████████▉                    | 573kB 27.6MB/s eta 0:00:01\r\u001b[K     |████████████                    | 583kB 27.6MB/s eta 0:00:01\r\u001b[K     |████████████▎                   | 593kB 27.6MB/s eta 0:00:01\r\u001b[K     |████████████▌                   | 604kB 27.6MB/s eta 0:00:01\r\u001b[K     |████████████▊                   | 614kB 27.6MB/s eta 0:00:01\r\u001b[K     |█████████████                   | 624kB 27.6MB/s eta 0:00:01\r\u001b[K     |█████████████▏                  | 634kB 27.6MB/s eta 0:00:01\r\u001b[K     |█████████████▍                  | 645kB 27.6MB/s eta 0:00:01\r\u001b[K     |█████████████▌                  | 655kB 27.6MB/s eta 0:00:01\r\u001b[K     |█████████████▊                  | 665kB 27.6MB/s eta 0:00:01\r\u001b[K     |██████████████                  | 675kB 27.6MB/s eta 0:00:01\r\u001b[K     |██████████████▏                 | 686kB 27.6MB/s eta 0:00:01\r\u001b[K     |██████████████▍                 | 696kB 27.6MB/s eta 0:00:01\r\u001b[K     |██████████████▋                 | 706kB 27.6MB/s eta 0:00:01\r\u001b[K     |██████████████▉                 | 716kB 27.6MB/s eta 0:00:01\r\u001b[K     |███████████████                 | 727kB 27.6MB/s eta 0:00:01\r\u001b[K     |███████████████▎                | 737kB 27.6MB/s eta 0:00:01\r\u001b[K     |███████████████▌                | 747kB 27.6MB/s eta 0:00:01\r\u001b[K     |███████████████▊                | 757kB 27.6MB/s eta 0:00:01\r\u001b[K     |███████████████▉                | 768kB 27.6MB/s eta 0:00:01\r\u001b[K     |████████████████                | 778kB 27.6MB/s eta 0:00:01\r\u001b[K     |████████████████▎               | 788kB 27.6MB/s eta 0:00:01\r\u001b[K     |████████████████▌               | 798kB 27.6MB/s eta 0:00:01\r\u001b[K     |████████████████▊               | 808kB 27.6MB/s eta 0:00:01\r\u001b[K     |█████████████████               | 819kB 27.6MB/s eta 0:00:01\r\u001b[K     |█████████████████▏              | 829kB 27.6MB/s eta 0:00:01\r\u001b[K     |█████████████████▍              | 839kB 27.6MB/s eta 0:00:01\r\u001b[K     |█████████████████▋              | 849kB 27.6MB/s eta 0:00:01\r\u001b[K     |█████████████████▉              | 860kB 27.6MB/s eta 0:00:01\r\u001b[K     |██████████████████              | 870kB 27.6MB/s eta 0:00:01\r\u001b[K     |██████████████████▏             | 880kB 27.6MB/s eta 0:00:01\r\u001b[K     |██████████████████▍             | 890kB 27.6MB/s eta 0:00:01\r\u001b[K     |██████████████████▋             | 901kB 27.6MB/s eta 0:00:01\r\u001b[K     |██████████████████▉             | 911kB 27.6MB/s eta 0:00:01\r\u001b[K     |███████████████████             | 921kB 27.6MB/s eta 0:00:01\r\u001b[K     |███████████████████▎            | 931kB 27.6MB/s eta 0:00:01\r\u001b[K     |███████████████████▌            | 942kB 27.6MB/s eta 0:00:01\r\u001b[K     |███████████████████▊            | 952kB 27.6MB/s eta 0:00:01\r\u001b[K     |████████████████████            | 962kB 27.6MB/s eta 0:00:01\r\u001b[K     |████████████████████▏           | 972kB 27.6MB/s eta 0:00:01\r\u001b[K     |████████████████████▎           | 983kB 27.6MB/s eta 0:00:01\r\u001b[K     |████████████████████▌           | 993kB 27.6MB/s eta 0:00:01\r\u001b[K     |████████████████████▊           | 1.0MB 27.6MB/s eta 0:00:01\r\u001b[K     |█████████████████████           | 1.0MB 27.6MB/s eta 0:00:01\r\u001b[K     |█████████████████████▏          | 1.0MB 27.6MB/s eta 0:00:01\r\u001b[K     |█████████████████████▍          | 1.0MB 27.6MB/s eta 0:00:01\r\u001b[K     |█████████████████████▋          | 1.0MB 27.6MB/s eta 0:00:01\r\u001b[K     |█████████████████████▉          | 1.1MB 27.6MB/s eta 0:00:01\r\u001b[K     |██████████████████████          | 1.1MB 27.6MB/s eta 0:00:01\r\u001b[K     |██████████████████████▎         | 1.1MB 27.6MB/s eta 0:00:01\r\u001b[K     |██████████████████████▍         | 1.1MB 27.6MB/s eta 0:00:01\r\u001b[K     |██████████████████████▋         | 1.1MB 27.6MB/s eta 0:00:01\r\u001b[K     |██████████████████████▉         | 1.1MB 27.6MB/s eta 0:00:01\r\u001b[K     |███████████████████████         | 1.1MB 27.6MB/s eta 0:00:01\r\u001b[K     |███████████████████████▎        | 1.1MB 27.6MB/s eta 0:00:01\r\u001b[K     |███████████████████████▌        | 1.1MB 27.6MB/s eta 0:00:01\r\u001b[K     |███████████████████████▊        | 1.1MB 27.6MB/s eta 0:00:01\r\u001b[K     |████████████████████████        | 1.2MB 27.6MB/s eta 0:00:01\r\u001b[K     |████████████████████████▏       | 1.2MB 27.6MB/s eta 0:00:01\r\u001b[K     |████████████████████████▍       | 1.2MB 27.6MB/s eta 0:00:01\r\u001b[K     |████████████████████████▋       | 1.2MB 27.6MB/s eta 0:00:01\r\u001b[K     |████████████████████████▊       | 1.2MB 27.6MB/s eta 0:00:01\r\u001b[K     |█████████████████████████       | 1.2MB 27.6MB/s eta 0:00:01\r\u001b[K     |█████████████████████████▏      | 1.2MB 27.6MB/s eta 0:00:01\r\u001b[K     |█████████████████████████▍      | 1.2MB 27.6MB/s eta 0:00:01\r\u001b[K     |█████████████████████████▋      | 1.2MB 27.6MB/s eta 0:00:01\r\u001b[K     |█████████████████████████▉      | 1.2MB 27.6MB/s eta 0:00:01\r\u001b[K     |██████████████████████████      | 1.3MB 27.6MB/s eta 0:00:01\r\u001b[K     |██████████████████████████▎     | 1.3MB 27.6MB/s eta 0:00:01\r\u001b[K     |██████████████████████████▌     | 1.3MB 27.6MB/s eta 0:00:01\r\u001b[K     |██████████████████████████▊     | 1.3MB 27.6MB/s eta 0:00:01\r\u001b[K     |███████████████████████████     | 1.3MB 27.6MB/s eta 0:00:01\r\u001b[K     |███████████████████████████     | 1.3MB 27.6MB/s eta 0:00:01\r\u001b[K     |███████████████████████████▎    | 1.3MB 27.6MB/s eta 0:00:01\r\u001b[K     |███████████████████████████▌    | 1.3MB 27.6MB/s eta 0:00:01\r\u001b[K     |███████████████████████████▊    | 1.3MB 27.6MB/s eta 0:00:01\r\u001b[K     |████████████████████████████    | 1.4MB 27.6MB/s eta 0:00:01\r\u001b[K     |████████████████████████████▏   | 1.4MB 27.6MB/s eta 0:00:01\r\u001b[K     |████████████████████████████▍   | 1.4MB 27.6MB/s eta 0:00:01\r\u001b[K     |████████████████████████████▋   | 1.4MB 27.6MB/s eta 0:00:01\r\u001b[K     |████████████████████████████▉   | 1.4MB 27.6MB/s eta 0:00:01\r\u001b[K     |█████████████████████████████   | 1.4MB 27.6MB/s eta 0:00:01\r\u001b[K     |█████████████████████████████▏  | 1.4MB 27.6MB/s eta 0:00:01\r\u001b[K     |█████████████████████████████▍  | 1.4MB 27.6MB/s eta 0:00:01\r\u001b[K     |█████████████████████████████▋  | 1.4MB 27.6MB/s eta 0:00:01\r\u001b[K     |█████████████████████████████▉  | 1.4MB 27.6MB/s eta 0:00:01\r\u001b[K     |██████████████████████████████  | 1.5MB 27.6MB/s eta 0:00:01\r\u001b[K     |██████████████████████████████▎ | 1.5MB 27.6MB/s eta 0:00:01\r\u001b[K     |██████████████████████████████▌ | 1.5MB 27.6MB/s eta 0:00:01\r\u001b[K     |██████████████████████████████▊ | 1.5MB 27.6MB/s eta 0:00:01\r\u001b[K     |███████████████████████████████ | 1.5MB 27.6MB/s eta 0:00:01\r\u001b[K     |███████████████████████████████▏| 1.5MB 27.6MB/s eta 0:00:01\r\u001b[K     |███████████████████████████████▍| 1.5MB 27.6MB/s eta 0:00:01\r\u001b[K     |███████████████████████████████▌| 1.5MB 27.6MB/s eta 0:00:01\r\u001b[K     |███████████████████████████████▊| 1.5MB 27.6MB/s eta 0:00:01\r\u001b[K     |████████████████████████████████| 1.5MB 27.6MB/s eta 0:00:01\r\u001b[K     |████████████████████████████████| 1.6MB 27.6MB/s \n",
            "\u001b[?25hInstalling collected packages: pip\n",
            "  Found existing installation: pip 19.3.1\n",
            "    Uninstalling pip-19.3.1:\n",
            "      Successfully uninstalled pip-19.3.1\n",
            "Successfully installed pip-21.1.1\n"
          ],
          "name": "stdout"
        }
      ]
    },
    {
      "cell_type": "code",
      "metadata": {
        "colab": {
          "base_uri": "https://localhost:8080/"
        },
        "id": "iF9DI4Jw4oqj",
        "outputId": "09289fb3-59dc-4dc9-b95c-3649459622cb"
      },
      "source": [
        "pip install tensorflow"
      ],
      "execution_count": 4,
      "outputs": [
        {
          "output_type": "stream",
          "text": [
            "Requirement already satisfied: tensorflow in /usr/local/lib/python3.7/dist-packages (2.4.1)\n",
            "Requirement already satisfied: tensorflow-estimator<2.5.0,>=2.4.0 in /usr/local/lib/python3.7/dist-packages (from tensorflow) (2.4.0)\n",
            "Requirement already satisfied: grpcio~=1.32.0 in /usr/local/lib/python3.7/dist-packages (from tensorflow) (1.32.0)\n",
            "Requirement already satisfied: h5py~=2.10.0 in /usr/local/lib/python3.7/dist-packages (from tensorflow) (2.10.0)\n",
            "Requirement already satisfied: opt-einsum~=3.3.0 in /usr/local/lib/python3.7/dist-packages (from tensorflow) (3.3.0)\n",
            "Requirement already satisfied: wheel~=0.35 in /usr/local/lib/python3.7/dist-packages (from tensorflow) (0.36.2)\n",
            "Requirement already satisfied: google-pasta~=0.2 in /usr/local/lib/python3.7/dist-packages (from tensorflow) (0.2.0)\n",
            "Requirement already satisfied: flatbuffers~=1.12.0 in /usr/local/lib/python3.7/dist-packages (from tensorflow) (1.12)\n",
            "Requirement already satisfied: astunparse~=1.6.3 in /usr/local/lib/python3.7/dist-packages (from tensorflow) (1.6.3)\n",
            "Requirement already satisfied: numpy~=1.19.2 in /usr/local/lib/python3.7/dist-packages (from tensorflow) (1.19.5)\n",
            "Requirement already satisfied: tensorboard~=2.4 in /usr/local/lib/python3.7/dist-packages (from tensorflow) (2.4.1)\n",
            "Requirement already satisfied: gast==0.3.3 in /usr/local/lib/python3.7/dist-packages (from tensorflow) (0.3.3)\n",
            "Requirement already satisfied: keras-preprocessing~=1.1.2 in /usr/local/lib/python3.7/dist-packages (from tensorflow) (1.1.2)\n",
            "Requirement already satisfied: termcolor~=1.1.0 in /usr/local/lib/python3.7/dist-packages (from tensorflow) (1.1.0)\n",
            "Requirement already satisfied: six~=1.15.0 in /usr/local/lib/python3.7/dist-packages (from tensorflow) (1.15.0)\n",
            "Requirement already satisfied: typing-extensions~=3.7.4 in /usr/local/lib/python3.7/dist-packages (from tensorflow) (3.7.4.3)\n",
            "Requirement already satisfied: absl-py~=0.10 in /usr/local/lib/python3.7/dist-packages (from tensorflow) (0.12.0)\n",
            "Requirement already satisfied: protobuf>=3.9.2 in /usr/local/lib/python3.7/dist-packages (from tensorflow) (3.12.4)\n",
            "Requirement already satisfied: wrapt~=1.12.1 in /usr/local/lib/python3.7/dist-packages (from tensorflow) (1.12.1)\n",
            "Requirement already satisfied: setuptools in /usr/local/lib/python3.7/dist-packages (from protobuf>=3.9.2->tensorflow) (56.1.0)\n",
            "Requirement already satisfied: markdown>=2.6.8 in /usr/local/lib/python3.7/dist-packages (from tensorboard~=2.4->tensorflow) (3.3.4)\n",
            "Requirement already satisfied: tensorboard-plugin-wit>=1.6.0 in /usr/local/lib/python3.7/dist-packages (from tensorboard~=2.4->tensorflow) (1.8.0)\n",
            "Requirement already satisfied: werkzeug>=0.11.15 in /usr/local/lib/python3.7/dist-packages (from tensorboard~=2.4->tensorflow) (2.0.0)\n",
            "Requirement already satisfied: google-auth<2,>=1.6.3 in /usr/local/lib/python3.7/dist-packages (from tensorboard~=2.4->tensorflow) (1.30.0)\n",
            "Requirement already satisfied: requests<3,>=2.21.0 in /usr/local/lib/python3.7/dist-packages (from tensorboard~=2.4->tensorflow) (2.23.0)\n",
            "Requirement already satisfied: google-auth-oauthlib<0.5,>=0.4.1 in /usr/local/lib/python3.7/dist-packages (from tensorboard~=2.4->tensorflow) (0.4.4)\n",
            "Requirement already satisfied: pyasn1-modules>=0.2.1 in /usr/local/lib/python3.7/dist-packages (from google-auth<2,>=1.6.3->tensorboard~=2.4->tensorflow) (0.2.8)\n",
            "Requirement already satisfied: cachetools<5.0,>=2.0.0 in /usr/local/lib/python3.7/dist-packages (from google-auth<2,>=1.6.3->tensorboard~=2.4->tensorflow) (4.2.2)\n",
            "Requirement already satisfied: rsa<5,>=3.1.4 in /usr/local/lib/python3.7/dist-packages (from google-auth<2,>=1.6.3->tensorboard~=2.4->tensorflow) (4.7.2)\n",
            "Requirement already satisfied: requests-oauthlib>=0.7.0 in /usr/local/lib/python3.7/dist-packages (from google-auth-oauthlib<0.5,>=0.4.1->tensorboard~=2.4->tensorflow) (1.3.0)\n",
            "Requirement already satisfied: importlib-metadata in /usr/local/lib/python3.7/dist-packages (from markdown>=2.6.8->tensorboard~=2.4->tensorflow) (4.0.1)\n",
            "Requirement already satisfied: pyasn1<0.5.0,>=0.4.6 in /usr/local/lib/python3.7/dist-packages (from pyasn1-modules>=0.2.1->google-auth<2,>=1.6.3->tensorboard~=2.4->tensorflow) (0.4.8)\n",
            "Requirement already satisfied: urllib3!=1.25.0,!=1.25.1,<1.26,>=1.21.1 in /usr/local/lib/python3.7/dist-packages (from requests<3,>=2.21.0->tensorboard~=2.4->tensorflow) (1.24.3)\n",
            "Requirement already satisfied: idna<3,>=2.5 in /usr/local/lib/python3.7/dist-packages (from requests<3,>=2.21.0->tensorboard~=2.4->tensorflow) (2.10)\n",
            "Requirement already satisfied: chardet<4,>=3.0.2 in /usr/local/lib/python3.7/dist-packages (from requests<3,>=2.21.0->tensorboard~=2.4->tensorflow) (3.0.4)\n",
            "Requirement already satisfied: certifi>=2017.4.17 in /usr/local/lib/python3.7/dist-packages (from requests<3,>=2.21.0->tensorboard~=2.4->tensorflow) (2020.12.5)\n",
            "Requirement already satisfied: oauthlib>=3.0.0 in /usr/local/lib/python3.7/dist-packages (from requests-oauthlib>=0.7.0->google-auth-oauthlib<0.5,>=0.4.1->tensorboard~=2.4->tensorflow) (3.1.0)\n",
            "Requirement already satisfied: zipp>=0.5 in /usr/local/lib/python3.7/dist-packages (from importlib-metadata->markdown>=2.6.8->tensorboard~=2.4->tensorflow) (3.4.1)\n",
            "\u001b[33mWARNING: Running pip as root will break packages and permissions. You should install packages reliably by using venv: https://pip.pypa.io/warnings/venv\u001b[0m\n"
          ],
          "name": "stdout"
        }
      ]
    },
    {
      "cell_type": "code",
      "metadata": {
        "colab": {
          "base_uri": "https://localhost:8080/"
        },
        "id": "Pg88Zg6p4tfb",
        "outputId": "5b694c10-c9f1-48f1-da74-01c1e183a0e8"
      },
      "source": [
        "pip install tf-nightl"
      ],
      "execution_count": 5,
      "outputs": [
        {
          "output_type": "stream",
          "text": [
            "\u001b[31mERROR: Could not find a version that satisfies the requirement tf-nightl (from versions: none)\u001b[0m\n",
            "\u001b[31mERROR: No matching distribution found for tf-nightl\u001b[0m\n"
          ],
          "name": "stdout"
        }
      ]
    },
    {
      "cell_type": "code",
      "metadata": {
        "id": "dJ38y2cS4wTD"
      },
      "source": [
        "\n",
        "import tensorflow as tf   "
      ],
      "execution_count": 6,
      "outputs": []
    },
    {
      "cell_type": "code",
      "metadata": {
        "id": "oKScxCpX4wUU"
      },
      "source": [
        "mnist = tf.keras.datasets.mnist\n",
        "\n",
        "(x_train, y_train), (x_test, y_test) = mnist.load_data()\n",
        "x_train, x_test = x_train / 255.0, x_test / 255.0"
      ],
      "execution_count": 9,
      "outputs": []
    },
    {
      "cell_type": "code",
      "metadata": {
        "id": "JSTr3_vb4wXw"
      },
      "source": [
        "model = tf.keras.models.Sequential([\n",
        "  tf.keras.layers.Flatten(input_shape=(28, 28)),\n",
        "  tf.keras.layers.Dense(128, activation='relu'),\n",
        "  tf.keras.layers.Dropout(0.2),\n",
        "  tf.keras.layers.Dense(10)\n",
        "])"
      ],
      "execution_count": 10,
      "outputs": []
    },
    {
      "cell_type": "code",
      "metadata": {
        "colab": {
          "base_uri": "https://localhost:8080/"
        },
        "id": "eY8JNzdl5JhA",
        "outputId": "091b9f9f-75b5-40e8-f361-b434f9557583"
      },
      "source": [
        "predictions = model(x_train[:1]).numpy()\n",
        "predictions"
      ],
      "execution_count": 11,
      "outputs": [
        {
          "output_type": "execute_result",
          "data": {
            "text/plain": [
              "array([[ 0.17849606, -0.33721256, -0.14396548, -0.34457636, -0.9963599 ,\n",
              "        -0.5585207 ,  0.40352792,  0.4515651 ,  0.33452678, -0.00591711]],\n",
              "      dtype=float32)"
            ]
          },
          "metadata": {
            "tags": []
          },
          "execution_count": 11
        }
      ]
    },
    {
      "cell_type": "code",
      "metadata": {
        "colab": {
          "base_uri": "https://localhost:8080/"
        },
        "id": "yWkF8fWC5OVp",
        "outputId": "b85fc2d2-2fa7-415d-86d6-c9d3489e956f"
      },
      "source": [
        "tf.nn.softmax(predictions).numpy()"
      ],
      "execution_count": 12,
      "outputs": [
        {
          "output_type": "execute_result",
          "data": {
            "text/plain": [
              "array([[0.12094314, 0.07221241, 0.08760683, 0.0716826 , 0.03735492,\n",
              "        0.05787605, 0.15146466, 0.15891819, 0.14136586, 0.10057536]],\n",
              "      dtype=float32)"
            ]
          },
          "metadata": {
            "tags": []
          },
          "execution_count": 12
        }
      ]
    },
    {
      "cell_type": "code",
      "metadata": {
        "id": "VdCI5viY5R1f"
      },
      "source": [
        "loss_fn = tf.keras.losses.SparseCategoricalCrossentropy(from_logits=True)\n"
      ],
      "execution_count": 13,
      "outputs": []
    },
    {
      "cell_type": "code",
      "metadata": {
        "colab": {
          "base_uri": "https://localhost:8080/"
        },
        "id": "QvAZ2t8X5Yyw",
        "outputId": "7749106e-e77e-4dc7-b58c-d538a22a2dc5"
      },
      "source": [
        "\n",
        "loss_fn(y_train[:1], predictions).numpy()"
      ],
      "execution_count": 14,
      "outputs": [
        {
          "output_type": "execute_result",
          "data": {
            "text/plain": [
              "2.8494515"
            ]
          },
          "metadata": {
            "tags": []
          },
          "execution_count": 14
        }
      ]
    },
    {
      "cell_type": "code",
      "metadata": {
        "id": "Jf0CyRvN5eer"
      },
      "source": [
        "model.compile(optimizer='adam',\n",
        "              loss=loss_fn,\n",
        "              metrics=['accuracy'])"
      ],
      "execution_count": 15,
      "outputs": []
    },
    {
      "cell_type": "code",
      "metadata": {
        "colab": {
          "base_uri": "https://localhost:8080/"
        },
        "id": "4XRiyVXX5eft",
        "outputId": "19dc7f6f-5d7e-4d3f-980d-66eed8797312"
      },
      "source": [
        "model.fit(x_train, y_train, epochs=5)"
      ],
      "execution_count": 17,
      "outputs": [
        {
          "output_type": "stream",
          "text": [
            "Epoch 1/5\n",
            "1875/1875 [==============================] - 4s 2ms/step - loss: 0.4925 - accuracy: 0.8563\n",
            "Epoch 2/5\n",
            "1875/1875 [==============================] - 3s 2ms/step - loss: 0.1574 - accuracy: 0.9528\n",
            "Epoch 3/5\n",
            "1875/1875 [==============================] - 3s 2ms/step - loss: 0.1134 - accuracy: 0.9666\n",
            "Epoch 4/5\n",
            "1875/1875 [==============================] - 3s 2ms/step - loss: 0.0897 - accuracy: 0.9719\n",
            "Epoch 5/5\n",
            "1875/1875 [==============================] - 3s 2ms/step - loss: 0.0715 - accuracy: 0.9782\n"
          ],
          "name": "stdout"
        },
        {
          "output_type": "execute_result",
          "data": {
            "text/plain": [
              "<tensorflow.python.keras.callbacks.History at 0x7f9c06091690>"
            ]
          },
          "metadata": {
            "tags": []
          },
          "execution_count": 17
        }
      ]
    },
    {
      "cell_type": "code",
      "metadata": {
        "colab": {
          "base_uri": "https://localhost:8080/"
        },
        "id": "uxonk3755ej4",
        "outputId": "32d62e45-a490-405b-92a7-c2a1cff5d275"
      },
      "source": [
        "model.evaluate(x_test,  y_test, verbose=2)"
      ],
      "execution_count": 18,
      "outputs": [
        {
          "output_type": "stream",
          "text": [
            "313/313 - 0s - loss: 0.0773 - accuracy: 0.9766\n"
          ],
          "name": "stdout"
        },
        {
          "output_type": "execute_result",
          "data": {
            "text/plain": [
              "[0.07732547074556351, 0.9765999913215637]"
            ]
          },
          "metadata": {
            "tags": []
          },
          "execution_count": 18
        }
      ]
    },
    {
      "cell_type": "code",
      "metadata": {
        "id": "uI_RLL4d5Yzz"
      },
      "source": [
        "probability_model = tf.keras.Sequential([\n",
        "  model,\n",
        "  tf.keras.layers.Softmax()\n",
        "])"
      ],
      "execution_count": 19,
      "outputs": []
    },
    {
      "cell_type": "code",
      "metadata": {
        "colab": {
          "base_uri": "https://localhost:8080/"
        },
        "id": "oqF6vCbH52ge",
        "outputId": "b1a73e6d-7bde-4439-d42f-6d29407921ae"
      },
      "source": [
        "probability_model(x_test[:5])"
      ],
      "execution_count": 20,
      "outputs": [
        {
          "output_type": "execute_result",
          "data": {
            "text/plain": [
              "<tf.Tensor: shape=(5, 10), dtype=float32, numpy=\n",
              "array([[8.14439449e-09, 6.16785123e-10, 7.58477154e-06, 3.32337426e-04,\n",
              "        1.52528226e-10, 1.12189389e-06, 1.83180531e-14, 9.99638200e-01,\n",
              "        8.94401921e-08, 2.06367658e-05],\n",
              "       [6.14931821e-08, 2.79003551e-04, 9.99691129e-01, 2.92015757e-05,\n",
              "        1.59501767e-15, 1.06603096e-07, 8.54740563e-08, 2.29156548e-15,\n",
              "        3.59837941e-07, 4.88000222e-12],\n",
              "       [2.98439318e-08, 9.99644756e-01, 3.38345599e-05, 1.42141917e-05,\n",
              "        1.92516363e-05, 1.04236960e-06, 1.53498986e-05, 1.59875664e-04,\n",
              "        1.09820794e-04, 1.72890043e-06],\n",
              "       [9.98736441e-01, 1.47177881e-10, 1.04360282e-04, 6.00387239e-07,\n",
              "        7.10887349e-08, 9.78074422e-06, 2.39470857e-04, 8.81285871e-07,\n",
              "        3.44354106e-07, 9.07984155e-04],\n",
              "       [2.73406476e-06, 6.87886026e-10, 1.09911089e-05, 1.59546303e-07,\n",
              "        9.65107262e-01, 9.99934215e-08, 4.15337269e-07, 1.20515586e-04,\n",
              "        1.88820081e-06, 3.47559229e-02]], dtype=float32)>"
            ]
          },
          "metadata": {
            "tags": []
          },
          "execution_count": 20
        }
      ]
    }
  ]
}